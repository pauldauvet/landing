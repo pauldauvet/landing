{
  "nbformat": 4,
  "nbformat_minor": 0,
  "metadata": {
    "colab": {
      "provenance": [],
      "include_colab_link": true
    },
    "kernelspec": {
      "name": "python3",
      "display_name": "Python 3"
    },
    "language_info": {
      "name": "python"
    }
  },
  "cells": [
    {
      "cell_type": "markdown",
      "metadata": {
        "id": "view-in-github",
        "colab_type": "text"
      },
      "source": [
        "<a href=\"https://colab.research.google.com/github/pauldauvet/landing/blob/main/8_1_Create_a_function.ipynb\" target=\"_parent\"><img src=\"https://colab.research.google.com/assets/colab-badge.svg\" alt=\"Open In Colab\"/></a>"
      ]
    },
    {
      "cell_type": "markdown",
      "source": [
        "# Creating a new function\n",
        "\n",
        "---\n",
        "\n",
        "We use the **def** keyword to define and create a new function.\n",
        "\n",
        "First, give the new function a **name**, followed by the **parameters** (also called **arguments**) that it will be use in brackets. A function can have anything from zero to many parameters.\n",
        "\n",
        "The parameters are used to pass data to the function. The data can be used by the function to do computations.\n",
        "\n",
        "Second, create the **body** of the function. The body is delimited by indentation, meaning that all the code that is part of the function will be indented to the right. The first line following the body, that is not indented, indicates the end of the body of the function.  \n",
        "\n",
        "---\n",
        "\n",
        "Next is an example of a **function** called **Subtract**.\n",
        "1. Modify the function so that it takes **two parameters (a, b)**.\n",
        "2. Return the calculated variable so that the result can be used globally by the program.\n",
        "\n",
        "The purpose of this function is to subtract the **value** of **parameter** **b** from the **value** of **parameter** **a**. It should **return** the result to the main function, using the **return** **keyword**, so that the output can also be used outside of the function (i.e., globally).\n",
        "\n",
        "\n",
        "---\n",
        "\n"
      ],
      "metadata": {
        "id": "L3h07awVzbA2"
      }
    },
    {
      "cell_type": "code",
      "execution_count": null,
      "metadata": {
        "id": "zjYp7XYgzS30"
      },
      "outputs": [],
      "source": [
        "# Add your code to this function\n",
        "def Subtract():\n",
        "  output_of_subtract_function = a - b\n",
        "\n",
        "# Note: No modifications are necessary beyond this point. However, read the following code and try to understand what happens here. Then run the code.\n",
        "\n",
        "# pass values to the Subtract function and store the returned output in subtract1\n",
        "subtract1 = Subtract(10, 12)\n",
        "\n",
        "# print the value of subtract1\n",
        "print(\"10 - 12 =\", subtract1)\n",
        "\n",
        "# pass different values to the Subtract function and store the output in subtract2\n",
        "subtract2 = Subtract(15, 6)\n",
        "\n",
        "# print the value of subtract2\n",
        "print(\"15 - 6 = \", subtract2)\n",
        "\n",
        "# I can also use variables to pass values to a function\n",
        "value_a = 12\n",
        "value_b = 10\n",
        "\n",
        "subtract3 = Subtract(value_a, value_b)\n",
        "print(value_a, \"-\", value_b, \"=\", subtract3)"
      ]
    },
    {
      "cell_type": "markdown",
      "source": [
        "\n",
        "\n",
        "---\n",
        "\n",
        "\n",
        "In the next example, we ask the user to enter a value for the radius of a circle. The variable **radius** is declared in the main program, so it is a **global** variable, meaning it can be used anywhere in the program.\n",
        "\n",
        "We create a function to calculate the area of a circle, using the value of **radius** as input. We also create another function to print the output.\n",
        "\n",
        "Notice that the value of **area** is returned to the main program using the **return** keyword. Without this line of code, the value of area will not be available to use in the main program as well! If it is not returned, it remains **local**. By returning the value, we make it **globally** available.\n",
        "\n",
        "We also use the value of **pi**, as calculated by the Python library **math**, in our function.\n",
        "\n",
        "**At the moment, the program does not provide any output. Can you figure out why? Try fixing it by adding a single line of code at the end of the program.**\n",
        "\n",
        "---\n",
        "\n"
      ],
      "metadata": {
        "id": "fggsUMvc5Gd4"
      }
    },
    {
      "cell_type": "code",
      "source": [
        "import math\n",
        "\n",
        "radius = int(input(\"What is the radius of the circle? \"))\n",
        "\n",
        "def area_of_a_circle(radius):\n",
        "  pi = math.pi\n",
        "  area = pi*(radius**2)\n",
        "  return area\n",
        "\n",
        "the_area = area_of_a_circle(radius)\n",
        "\n",
        "def print_the_area(area):\n",
        "  print(\"The area of the circle is\", area)\n",
        "\n",
        "# Add your code here\n"
      ],
      "metadata": {
        "id": "jd0z96yf5UeW"
      },
      "execution_count": null,
      "outputs": []
    }
  ]
}